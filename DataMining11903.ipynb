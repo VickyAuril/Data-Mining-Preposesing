{
  "nbformat": 4,
  "nbformat_minor": 0,
  "metadata": {
    "colab": {
      "name": "DataMining11903.ipynb",
      "provenance": []
    },
    "kernelspec": {
      "name": "python3",
      "display_name": "Python 3"
    },
    "language_info": {
      "name": "python"
    }
  },
  "cells": [
    {
      "cell_type": "code",
      "execution_count": 1,
      "metadata": {
        "id": "HPB3oHH_ReE4"
      },
      "outputs": [],
      "source": [
        "import numpy as np\n",
        "import matplotlib.pyplot as plt\n",
        "import pandas as pd"
      ]
    },
    {
      "cell_type": "code",
      "source": [
        "dataset = pd.read_csv('Data.csv')\n",
        "x = dataset.iloc[:,:-1].values\n",
        "y = dataset.iloc[:,-1].values"
      ],
      "metadata": {
        "id": "a8XzpA5lR8zd"
      },
      "execution_count": 7,
      "outputs": []
    },
    {
      "cell_type": "code",
      "source": [
        "print(x)"
      ],
      "metadata": {
        "colab": {
          "base_uri": "https://localhost:8080/"
        },
        "id": "YLkOcTLqSyjA",
        "outputId": "6d46e53a-fdf8-405d-b956-50820be3aa32"
      },
      "execution_count": 8,
      "outputs": [
        {
          "output_type": "stream",
          "name": "stdout",
          "text": [
            "[['Japanese' 12.0 937846.0]\n",
            " ['India' 45.0 1224.0]\n",
            " ['Rusia' 50.0 56000.0]\n",
            " ['Ukraina' 65.0 45000.0]\n",
            " ['Mesir' 567.0 nan]\n",
            " ['Spanyol' 46.0 50000.0]\n",
            " ['Zimbabue' nan 86000.0]]\n"
          ]
        }
      ]
    },
    {
      "cell_type": "code",
      "source": [
        "print(y)"
      ],
      "metadata": {
        "colab": {
          "base_uri": "https://localhost:8080/"
        },
        "id": "EZEqzysOS7Ea",
        "outputId": "b81a23b7-aba4-45cc-99e9-781e16bda2a5"
      },
      "execution_count": 9,
      "outputs": [
        {
          "output_type": "stream",
          "name": "stdout",
          "text": [
            "['No' 'Yes' 'No' 'No' 'Yes' 'Yes' 'No']\n"
          ]
        }
      ]
    },
    {
      "cell_type": "code",
      "source": [
        "from sklearn.impute import SimpleImputer\n",
        "imputer = SimpleImputer(missing_values=np.nan, strategy='mean')\n",
        "imputer.fit(x[:,1:3])\n",
        "x[:, 1:3] =imputer.transform(x[:,1:3])"
      ],
      "metadata": {
        "id": "K4ZZPgmMS8T1"
      },
      "execution_count": 10,
      "outputs": []
    },
    {
      "cell_type": "code",
      "source": [
        "print(x)"
      ],
      "metadata": {
        "colab": {
          "base_uri": "https://localhost:8080/"
        },
        "id": "lVujzMwuTD3K",
        "outputId": "f9f0805f-9788-40c5-baf0-39243856b1b8"
      },
      "execution_count": 11,
      "outputs": [
        {
          "output_type": "stream",
          "name": "stdout",
          "text": [
            "[['Japanese' 12.0 937846.0]\n",
            " ['India' 45.0 1224.0]\n",
            " ['Rusia' 50.0 56000.0]\n",
            " ['Ukraina' 65.0 45000.0]\n",
            " ['Mesir' 567.0 196011.66666666666]\n",
            " ['Spanyol' 46.0 50000.0]\n",
            " ['Zimbabue' 130.83333333333334 86000.0]]\n"
          ]
        }
      ]
    },
    {
      "cell_type": "code",
      "source": [
        "from sklearn.compose import ColumnTransformer\n",
        "from sklearn.preprocessing import OneHotEncoder\n",
        "ct = ColumnTransformer(transformers=[('encoder',OneHotEncoder(),[0])], remainder='passthrough')\n",
        "x = np.array(ct.fit_transform(x))"
      ],
      "metadata": {
        "id": "DfHKJtRATG-b"
      },
      "execution_count": 12,
      "outputs": []
    },
    {
      "cell_type": "code",
      "source": [
        "print(x)"
      ],
      "metadata": {
        "colab": {
          "base_uri": "https://localhost:8080/"
        },
        "id": "rd3e6-fBTLCQ",
        "outputId": "2cb3217e-b267-472f-e12a-7143d70c2647"
      },
      "execution_count": 13,
      "outputs": [
        {
          "output_type": "stream",
          "name": "stdout",
          "text": [
            "[[0.0 1.0 0.0 0.0 0.0 0.0 0.0 12.0 937846.0]\n",
            " [1.0 0.0 0.0 0.0 0.0 0.0 0.0 45.0 1224.0]\n",
            " [0.0 0.0 0.0 1.0 0.0 0.0 0.0 50.0 56000.0]\n",
            " [0.0 0.0 0.0 0.0 0.0 1.0 0.0 65.0 45000.0]\n",
            " [0.0 0.0 1.0 0.0 0.0 0.0 0.0 567.0 196011.66666666666]\n",
            " [0.0 0.0 0.0 0.0 1.0 0.0 0.0 46.0 50000.0]\n",
            " [0.0 0.0 0.0 0.0 0.0 0.0 1.0 130.83333333333334 86000.0]]\n"
          ]
        }
      ]
    },
    {
      "cell_type": "code",
      "source": [
        "from sklearn.preprocessing import LabelEncoder\n",
        "le = LabelEncoder()\n",
        "y = le.fit_transform(y)"
      ],
      "metadata": {
        "id": "Y8lZXFkMTPqJ"
      },
      "execution_count": 14,
      "outputs": []
    },
    {
      "cell_type": "code",
      "source": [
        "\n",
        "\n",
        "print(y)\n",
        "\n"
      ],
      "metadata": {
        "colab": {
          "base_uri": "https://localhost:8080/"
        },
        "id": "wUwi7YmgTRME",
        "outputId": "8b65929d-f3aa-49a6-d97a-b93b50020bd8"
      },
      "execution_count": 15,
      "outputs": [
        {
          "output_type": "stream",
          "name": "stdout",
          "text": [
            "[0 1 0 0 1 1 0]\n"
          ]
        }
      ]
    },
    {
      "cell_type": "code",
      "source": [
        "\n",
        "\n",
        "from sklearn.model_selection import train_test_split\n",
        "x_train, x_test, y_train, y_test = train_test_split(x,y,test_size=0.2, random_state=1)\n",
        "\n"
      ],
      "metadata": {
        "id": "HPf1o4ImTUe-"
      },
      "execution_count": 16,
      "outputs": []
    },
    {
      "cell_type": "code",
      "source": [
        "print(x_train)"
      ],
      "metadata": {
        "colab": {
          "base_uri": "https://localhost:8080/"
        },
        "id": "nU2665gNTZAZ",
        "outputId": "5dd5c3ff-7280-4efe-b684-0e44f8248b80"
      },
      "execution_count": 17,
      "outputs": [
        {
          "output_type": "stream",
          "name": "stdout",
          "text": [
            "[[1.0 0.0 0.0 0.0 0.0 0.0 0.0 45.0 1224.0]\n",
            " [0.0 1.0 0.0 0.0 0.0 0.0 0.0 12.0 937846.0]\n",
            " [0.0 0.0 1.0 0.0 0.0 0.0 0.0 567.0 196011.66666666666]\n",
            " [0.0 0.0 0.0 0.0 0.0 1.0 0.0 65.0 45000.0]\n",
            " [0.0 0.0 0.0 0.0 1.0 0.0 0.0 46.0 50000.0]]\n"
          ]
        }
      ]
    },
    {
      "cell_type": "code",
      "source": [
        "print(x_test)"
      ],
      "metadata": {
        "colab": {
          "base_uri": "https://localhost:8080/"
        },
        "id": "rNiW85FqTadg",
        "outputId": "9b8c9a1a-2e08-429e-c27e-1a51069130bf"
      },
      "execution_count": 18,
      "outputs": [
        {
          "output_type": "stream",
          "name": "stdout",
          "text": [
            "[[0.0 0.0 0.0 0.0 0.0 0.0 1.0 130.83333333333334 86000.0]\n",
            " [0.0 0.0 0.0 1.0 0.0 0.0 0.0 50.0 56000.0]]\n"
          ]
        }
      ]
    },
    {
      "cell_type": "code",
      "source": [
        "print(y_train)"
      ],
      "metadata": {
        "colab": {
          "base_uri": "https://localhost:8080/"
        },
        "id": "CtS_vY8YTdvu",
        "outputId": "66aafb3b-68c4-45d0-8075-323d98934eaa"
      },
      "execution_count": 19,
      "outputs": [
        {
          "output_type": "stream",
          "name": "stdout",
          "text": [
            "[1 0 1 0 1]\n"
          ]
        }
      ]
    },
    {
      "cell_type": "code",
      "source": [
        "print(y_test)"
      ],
      "metadata": {
        "colab": {
          "base_uri": "https://localhost:8080/"
        },
        "id": "19UYquIwTgXm",
        "outputId": "d2481ba6-50a4-4109-a0cf-8e7e66f1b032"
      },
      "execution_count": 20,
      "outputs": [
        {
          "output_type": "stream",
          "name": "stdout",
          "text": [
            "[0 0]\n"
          ]
        }
      ]
    },
    {
      "cell_type": "code",
      "source": [
        "from sklearn.preprocessing import StandardScaler\n",
        "sc = StandardScaler()\n",
        "x_train[:,3:] = sc.fit_transform(x_train[:,3:])\n",
        "x_test[:,3:] = sc.transform(x_test[:,3:])"
      ],
      "metadata": {
        "id": "BXV_sGwmTlGS"
      },
      "execution_count": 21,
      "outputs": []
    },
    {
      "cell_type": "code",
      "source": [
        "print(x_train)"
      ],
      "metadata": {
        "colab": {
          "base_uri": "https://localhost:8080/"
        },
        "id": "Cn6FwLVWTnZ0",
        "outputId": "c8e82c5f-dc27-4045-f737-63550dae2227"
      },
      "execution_count": 22,
      "outputs": [
        {
          "output_type": "stream",
          "name": "stdout",
          "text": [
            "[[1.0 0.0 0.0 0.0 -0.5 -0.5 0.0 -0.48412073708518993 -0.6952296697260459]\n",
            " [0.0 1.0 0.0 0.0 -0.5 -0.5 0.0 -0.6407480343774573 1.9648512031150775]\n",
            " [0.0 0.0 1.0 0.0 -0.5 -0.5 0.0 1.9934383291743114 -0.14201722504147474]\n",
            " [0.0 0.0 0.0 0.0 -0.5 2.0 0.0 -0.3891951023626037 -0.5709023527406527]\n",
            " [0.0 0.0 0.0 0.0 2.0 -0.5 0.0 -0.47937445534906065 -0.5567019556069044]]\n"
          ]
        }
      ]
    },
    {
      "cell_type": "code",
      "source": [
        "\n",
        "\n",
        "print(x_test)\n",
        "\n"
      ],
      "metadata": {
        "colab": {
          "base_uri": "https://localhost:8080/"
        },
        "id": "duhdABGjTrXs",
        "outputId": "399cb71b-b3f6-43b4-c98b-0ffd7aa16465"
      },
      "execution_count": 23,
      "outputs": [
        {
          "output_type": "stream",
          "name": "stdout",
          "text": [
            "[[0.0 0.0 0.0 0.0 -0.5 -0.5 1.0 -0.07673155473409052 -0.45445909624391645]\n",
            " [0.0 0.0 0.0 1.0 -0.5 -0.5 0.0 -0.4603893284045434 -0.5396614790464064]]\n"
          ]
        }
      ]
    }
  ]
}